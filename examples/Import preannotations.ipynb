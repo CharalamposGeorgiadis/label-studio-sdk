{
 "cells": [
  {
   "cell_type": "markdown",
   "metadata": {},
   "source": [
    "Create client"
   ]
  },
  {
   "cell_type": "code",
   "execution_count": 3,
   "metadata": {},
   "outputs": [],
   "source": [
    "from label_studio_sdk import Client\n",
    "\n",
    "LABEL_STUDIO_URL = 'http://localhost:8080'\n",
    "API_KEY = '681842051079710a6b0ebce5ec56f746e3400c98'\n",
    "\n",
    "ls = Client(url=LABEL_STUDIO_URL, api_key=API_KEY)"
   ]
  },
  {
   "cell_type": "markdown",
   "metadata": {},
   "source": [
    "Create Image Classification project"
   ]
  },
  {
   "cell_type": "code",
   "execution_count": 4,
   "metadata": {},
   "outputs": [],
   "source": [
    "project = ls.start_project(\n",
    "    title='Project Created from SDK: Image Preannotation',\n",
    "    label_config='''\n",
    "    <View>\n",
    "    <Image name=\"image\" value=\"$image\"/>\n",
    "    <Choices name=\"image_class\" toName=\"image\">\n",
    "        <Choice value=\"Cat\"/>\n",
    "        <Choice value=\"Dog\"/>\n",
    "    </Choices>\n",
    "    </View>\n",
    "    '''\n",
    ")"
   ]
  },
  {
   "cell_type": "markdown",
   "metadata": {},
   "source": [
    "Import tasks in basic [JSON Label Studio format](https://labelstud.io/guide/tasks.html#Basic-Label-Studio-JSON-format)"
   ]
  },
  {
   "cell_type": "code",
   "execution_count": 5,
   "metadata": {},
   "outputs": [
    {
     "data": {
      "text/plain": [
       "[307035, 307036]"
      ]
     },
     "execution_count": 5,
     "metadata": {},
     "output_type": "execute_result"
    }
   ],
   "source": [
    "project.import_tasks(\n",
    "    [{\n",
    "        'data': {'image': 'https://data.heartex.net/open-images/train_0/mini/0045dd96bf73936c.jpg'},\n",
    "        'predictions': [{\n",
    "            'result': [{\n",
    "                'from_name': 'image_class',\n",
    "                'to_name': 'image',\n",
    "                'type': 'choices',\n",
    "                'value': {\n",
    "                    'choices': ['Dog']\n",
    "                }\n",
    "            }],\n",
    "            'score': 0.87\n",
    "        }]\n",
    "    }, {\n",
    "        'data': {'image': 'https://data.heartex.net/open-images/train_0/mini/0083d02f6ad18b38.jpg'},\n",
    "        'predictions': [{\n",
    "            'result': [{\n",
    "                'from_name': 'image_class',\n",
    "                'to_name': 'image',\n",
    "                'type': 'choices',\n",
    "                'value': {\n",
    "                    'choices': ['Cat']\n",
    "                }\n",
    "            }],\n",
    "            'score': 0.65\n",
    "        }]\n",
    "    }]\n",
    ")"
   ]
  },
  {
   "cell_type": "markdown",
   "metadata": {},
   "source": [
    "Or the same but simpler, indicating from which source preannotation results should be taken"
   ]
  },
  {
   "cell_type": "code",
   "execution_count": 6,
   "metadata": {},
   "outputs": [
    {
     "data": {
      "text/plain": [
       "[307037, 307038]"
      ]
     },
     "execution_count": 6,
     "metadata": {},
     "output_type": "execute_result"
    }
   ],
   "source": [
    "project.import_tasks(\n",
    "    [{'image': f'https://data.heartex.net/open-images/train_0/mini/0045dd96bf73936c.jpg', 'pet': 'Dog'},\n",
    "    {'image': f'https://data.heartex.net/open-images/train_0/mini/0083d02f6ad18b38.jpg', 'pet': 'Cat'}],\n",
    "    preannotated_from_fields=['pet']\n",
    ")"
   ]
  },
  {
   "cell_type": "markdown",
   "metadata": {},
   "source": [
    "If you store everything in CSV files, you can do even better:"
   ]
  },
  {
   "cell_type": "code",
   "execution_count": 11,
   "metadata": {},
   "outputs": [
    {
     "data": {
      "text/html": [
       "<div>\n",
       "<style scoped>\n",
       "    .dataframe tbody tr th:only-of-type {\n",
       "        vertical-align: middle;\n",
       "    }\n",
       "\n",
       "    .dataframe tbody tr th {\n",
       "        vertical-align: top;\n",
       "    }\n",
       "\n",
       "    .dataframe thead th {\n",
       "        text-align: right;\n",
       "    }\n",
       "</style>\n",
       "<table border=\"1\" class=\"dataframe\">\n",
       "  <thead>\n",
       "    <tr style=\"text-align: right;\">\n",
       "      <th></th>\n",
       "      <th>image</th>\n",
       "      <th>pet</th>\n",
       "    </tr>\n",
       "  </thead>\n",
       "  <tbody>\n",
       "    <tr>\n",
       "      <th>0</th>\n",
       "      <td>https://data.heartex.net/open-images/train_0/m...</td>\n",
       "      <td>Dog</td>\n",
       "    </tr>\n",
       "    <tr>\n",
       "      <th>1</th>\n",
       "      <td>https://data.heartex.net/open-images/train_0/m...</td>\n",
       "      <td>Cat</td>\n",
       "    </tr>\n",
       "  </tbody>\n",
       "</table>\n",
       "</div>"
      ],
      "text/plain": [
       "                                               image  pet\n",
       "0  https://data.heartex.net/open-images/train_0/m...  Dog\n",
       "1  https://data.heartex.net/open-images/train_0/m...  Cat"
      ]
     },
     "execution_count": 11,
     "metadata": {},
     "output_type": "execute_result"
    }
   ],
   "source": [
    "import pandas as pd\n",
    "pd.read_csv('images.csv')"
   ]
  },
  {
   "cell_type": "code",
   "execution_count": 14,
   "metadata": {},
   "outputs": [
    {
     "data": {
      "text/plain": [
       "[307039, 307040]"
      ]
     },
     "execution_count": 14,
     "metadata": {},
     "output_type": "execute_result"
    }
   ],
   "source": [
    "project.import_tasks('images.csv', preannotated_from_fields=['pet'])"
   ]
  },
  {
   "cell_type": "markdown",
   "metadata": {},
   "source": [
    "Now you can open http://localhost:8080 and go annotate your tasks..."
   ]
  },
  {
   "cell_type": "markdown",
   "metadata": {},
   "source": [
    "When done, let's compute preannotation accuracy based on newly created ground truth dataset"
   ]
  },
  {
   "cell_type": "code",
   "execution_count": null,
   "metadata": {},
   "outputs": [],
   "source": [
    "from evalme import get_agreement\n",
    "\n",
    "\n",
    "print('Preannotation agreement scores:')\n",
    "\n",
    "total_score = 0\n",
    "n = 0\n",
    "for task in project.tasks:\n",
    "    score = get_agreement(task['annotations'][0], task['predictions'][0])\n",
    "    print(f'{task[\"id\"]} ==> {score}')\n",
    "    total_score += score\n",
    "    n += 1\n",
    "\n",
    "print(f'Preannotation accuracy: {100 * total_score / n: .0f}%')"
   ]
  }
 ],
 "metadata": {
  "kernelspec": {
   "display_name": "django-env-kernel",
   "language": "python",
   "name": "django-env-kernel"
  },
  "language_info": {
   "codemirror_mode": {
    "name": "ipython",
    "version": 3
   },
   "file_extension": ".py",
   "mimetype": "text/x-python",
   "name": "python",
   "nbconvert_exporter": "python",
   "pygments_lexer": "ipython3",
   "version": "3.8.8"
  }
 },
 "nbformat": 4,
 "nbformat_minor": 4
}
