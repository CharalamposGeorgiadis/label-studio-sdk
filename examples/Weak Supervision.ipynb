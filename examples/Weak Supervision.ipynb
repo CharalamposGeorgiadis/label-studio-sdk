{
 "cells": [
  {
   "cell_type": "markdown",
   "metadata": {},
   "source": [
    "# Weak Supervision with Label Studio"
   ]
  },
  {
   "cell_type": "markdown",
   "metadata": {},
   "source": [
    "### Connect to Label Studio\n",
    "\n",
    "Create Label Studio client connecting to Community or Enterprise version"
   ]
  },
  {
   "cell_type": "code",
   "execution_count": 1,
   "metadata": {},
   "outputs": [
    {
     "data": {
      "text/plain": [
       "{'status': 'UP'}"
      ]
     },
     "execution_count": 1,
     "metadata": {},
     "output_type": "execute_result"
    }
   ],
   "source": [
    "from label_studio_sdk import Client\n",
    "\n",
    "ls = Client(url='http://localhost:8000', api_key='d6f8a2622d39e9d89ff0dfef1a80ad877f4ee9e3')\n",
    "ls.check_connection()"
   ]
  },
  {
   "cell_type": "markdown",
   "metadata": {},
   "source": [
    "### Create new project\n",
    "\n",
    "Create a simple Text Classification project for sentiment analysis"
   ]
  },
  {
   "cell_type": "code",
   "execution_count": 2,
   "metadata": {},
   "outputs": [],
   "source": [
    "project = ls.start_project(\n",
    "    title='Weak Supervision example with SDK',\n",
    "    label_config='''\n",
    "    <View>\n",
    "    <Text name=\"text\" value=\"$text\"/>\n",
    "    <View style=\"box-shadow: 2px 2px 5px #999; padding: 20px; margin-top: 2em; border-radius: 5px;\">\n",
    "        <Header value=\"Choose text sentiment\"/>\n",
    "        <Choices name=\"sentiment\" toName=\"text\" choice=\"single\" showInLine=\"true\">\n",
    "            <Choice value=\"Positive\"/>\n",
    "            <Choice value=\"Negative\"/>\n",
    "            <Choice value=\"Neutral\"/>\n",
    "        </Choices>\n",
    "    </View>\n",
    "    </View>\n",
    "    '''\n",
    ")"
   ]
  },
  {
   "cell_type": "markdown",
   "metadata": {},
   "source": [
    "### Import tasks\n",
    "Import small texts, and gets their task IDs"
   ]
  },
  {
   "cell_type": "code",
   "execution_count": 3,
   "metadata": {},
   "outputs": [],
   "source": [
    "import pandas as pd\n",
    "\n",
    "tasks = pd.read_csv('amazon_cells_labelled.tsv', sep='\\t').to_dict('records')\n",
    "tasks_ids = project.import_tasks(tasks)"
   ]
  },
  {
   "cell_type": "markdown",
   "metadata": {},
   "source": [
    "### Create noisy predictions\n",
    "Perform programmatic labeling for creating weakly supervised annotations"
   ]
  },
  {
   "cell_type": "code",
   "execution_count": 4,
   "metadata": {},
   "outputs": [
    {
     "data": {
      "text/plain": [
       "{}"
      ]
     },
     "execution_count": 4,
     "metadata": {},
     "output_type": "execute_result"
    }
   ],
   "source": [
    "import re, random\n",
    "\n",
    "# Noisy programmatic labelers\n",
    "label_ops = {\n",
    "    r'.*\\b(good|excellent|great|cool)': 'Positive',\n",
    "    r'.*\\bi\\s+like': 'Positive',\n",
    "    r'.*\\bnot': 'Negative',\n",
    "    r'.*\\bdisappointed': 'Negative',\n",
    "    r'.*\\bjunk': 'Negative'\n",
    "}\n",
    "\n",
    "# Preannotations in Label Studio JSON format\n",
    "predictions = []\n",
    "for label_regex, label in label_ops.items():\n",
    "    model_version = label_regex\n",
    "    for task, task_id in zip(tasks, tasks_ids):\n",
    "        text = task['text'].lower()\n",
    "        if re.match(label_regex, text):\n",
    "            predictions.append({\n",
    "                'task': task_id,\n",
    "                'result': [{\n",
    "                    'from_name': 'sentiment',\n",
    "                    'to_name': 'text',\n",
    "                    'type': 'choices',\n",
    "                    'value': {\n",
    "                        'choices': [label]\n",
    "                    }\n",
    "                }],\n",
    "                'score': random.random(),\n",
    "                'model_version': model_version\n",
    "            })\n",
    "\n",
    "project.import_predictions(predictions)"
   ]
  },
  {
   "cell_type": "markdown",
   "metadata": {},
   "source": [
    "### Check quality of different models\n",
    "For each programmatic labeler used, we can get different associated stats, like dataset coverage, conflict and ground truth match"
   ]
  },
  {
   "cell_type": "code",
   "execution_count": 6,
   "metadata": {},
   "outputs": [
    {
     "data": {
      "text/plain": [
       ".*\\bdisappointed                   0.010\n",
       ".*\\b(good|excellent|great|cool)    0.202\n",
       ".*\\bi\\s+like                       0.004\n",
       ".*\\bjunk                           0.008\n",
       ".*\\bnot                            0.120\n",
       "                                   0.000\n",
       "Name: Coverage, dtype: float64"
      ]
     },
     "execution_count": 6,
     "metadata": {},
     "output_type": "execute_result"
    }
   ],
   "source": [
    "model_versions = project.get_model_versions()\n",
    "\n",
    "# check model version stats\n",
    "pd.Series(project.get_predictions_coverage(), name='Coverage')\n",
    "# project.predictions_agreement(model_versions)\n",
    "# then select specific model versions"
   ]
  },
  {
   "cell_type": "markdown",
   "metadata": {},
   "source": [
    "### Create annotations from specific model versions\n",
    "Based on quality metrics from previous steps, we can select subset of labelers and \"merge\" corresponding preannotations to a unique task annotation"
   ]
  },
  {
   "cell_type": "code",
   "execution_count": 9,
   "metadata": {},
   "outputs": [
    {
     "name": "stdout",
     "output_type": "stream",
     "text": [
      "{'detail': 'Created 344 annotations'}\n"
     ]
    }
   ],
   "source": [
    "print(project.create_annotations_from_predictions(model_versions=list(model_versions)))"
   ]
  }
 ],
 "metadata": {
  "kernelspec": {
   "display_name": "django-env-kernel",
   "language": "python",
   "name": "django-env-kernel"
  },
  "language_info": {
   "codemirror_mode": {
    "name": "ipython",
    "version": 3
   },
   "file_extension": ".py",
   "mimetype": "text/x-python",
   "name": "python",
   "nbconvert_exporter": "python",
   "pygments_lexer": "ipython3",
   "version": "3.8.8"
  }
 },
 "nbformat": 4,
 "nbformat_minor": 4
}
