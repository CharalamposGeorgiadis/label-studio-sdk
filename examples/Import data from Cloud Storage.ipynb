{
 "cells": [
  {
   "cell_type": "markdown",
   "metadata": {},
   "source": [
    "Assuming your data is streamed from Cloud storage (e.g. Google Cloud storage), you might want to build a script to continuously uploading data from there. Let's check it out"
   ]
  },
  {
   "cell_type": "markdown",
   "metadata": {},
   "source": [
    "Check what we have in Google Storage and create the list of tasks"
   ]
  },
  {
   "cell_type": "code",
   "execution_count": null,
   "metadata": {},
   "outputs": [],
   "source": [
    "from google.cloud import storage as google_storage\n",
    "\n",
    "BUCKET_NAME = 'my-bucket'  # specify your bucket name here\n",
    "GOOGLE_APPLICATION_CREDENTIALS = 'my-service-account-credentials.json'  # specify your GCS credentials\n",
    "\n",
    "google_client = google_storage.Client()\n",
    "bucket = google_client.get_bucket(BUCKET_NAME)\n",
    "tasks = []\n",
    "for filename in bucket.list_blobs():\n",
    "    tasks.append({'image': f'gs://{BUCKET_NAME}/{filename}'})"
   ]
  },
  {
   "cell_type": "markdown",
   "metadata": {},
   "source": [
    "Now create a Label Studio project..."
   ]
  },
  {
   "cell_type": "code",
   "execution_count": null,
   "metadata": {},
   "outputs": [],
   "source": [
    "from label_studio_sdk import Client\n",
    "LABEL_STUDIO_URL = 'http://localhost:8000'\n",
    "API_KEY = 'd6f8a2622d39e9d89ff0dfef1a80ad877f4ee9e3'\n",
    "\n",
    "ls = Client(url=LABEL_STUDIO_URL, api_key=API_KEY)\n",
    "ls.check_connection()\n",
    "\n",
    "project = ls.start_project(\n",
    "    title='Image Annotation Project from SDK',\n",
    "    label_config='''\n",
    "    <View>\n",
    "        <Image name=\"image\" value=\"$image\"/>\n",
    "        <RectangleLabels name=\"objects\" toName=\"image\">\n",
    "            <Choice value=\"Airplane\"/>\n",
    "            <Choice value=\"Car\"/>\n",
    "        </RectangleLabels>\n",
    "    </View>\n",
    "    '''\n",
    ")"
   ]
  },
  {
   "cell_type": "markdown",
   "metadata": {},
   "source": [
    "... and connect Google Cloud Storage to it"
   ]
  },
  {
   "cell_type": "code",
   "execution_count": null,
   "metadata": {},
   "outputs": [],
   "source": [
    "project.connect_google_import_storage(\n",
    "    bucket=BUCKET_NAME,\n",
    "    google_application_credentials=GOOGLE_APPLICATION_CREDENTIALS\n",
    ")"
   ]
  },
  {
   "cell_type": "markdown",
   "metadata": {},
   "source": [
    "Now you can upload your private GCS links - they gonna be presigned automatically!"
   ]
  },
  {
   "cell_type": "code",
   "execution_count": null,
   "metadata": {},
   "outputs": [],
   "source": [
    "project.import_tasks(tasks)"
   ]
  }
 ],
 "metadata": {
  "kernelspec": {
   "display_name": "django-env-kernel",
   "language": "python",
   "name": "django-env-kernel"
  },
  "language_info": {
   "codemirror_mode": {
    "name": "ipython",
    "version": 3
   },
   "file_extension": ".py",
   "mimetype": "text/x-python",
   "name": "python",
   "nbconvert_exporter": "python",
   "pygments_lexer": "ipython3",
   "version": "3.8.8"
  }
 },
 "nbformat": 4,
 "nbformat_minor": 4
}
